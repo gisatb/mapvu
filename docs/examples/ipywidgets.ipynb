{
    "cells": [
        {
            "attachments": {},
            "cell_type": "markdown",
            "metadata": {},
            "source": [
                "**Introduction to ipywidgets**\n",
                "\n",
                "https://ipywidgets.readthedocs.io"
            ]
        },
        {
            "cell_type": "markdown",
            "metadata": {},
            "source": [
                "## Import libraries"
            ]
        },
        {
            "cell_type": "code",
            "execution_count": 2,
            "metadata": {},
            "outputs": [],
            "source": [
                "# !pip install gemapvu"
            ]
        },
        {
            "cell_type": "code",
            "execution_count": 1,
            "metadata": {},
            "outputs": [],
            "source": [
                "import mapvu"
            ]
        },
        {
            "cell_type": "markdown",
            "metadata": {},
            "source": [
                "## Create an interactive map"
            ]
        },
        {
            "cell_type": "code",
            "execution_count": 2,
            "metadata": {},
            "outputs": [
                {
                    "data": {
                        "application/vnd.jupyter.widget-view+json": {
                            "model_id": "6e2e8c216f024047ada131a531aa7712",
                            "version_major": 2,
                            "version_minor": 0
                        },
                        "text/plain": [
                            "Map(center=[20, 0], controls=(ZoomControl(options=['position', 'zoom_in_text', 'zoom_in_title', 'zoom_out_text…"
                        ]
                    },
                    "execution_count": 2,
                    "metadata": {},
                    "output_type": "execute_result"
                }
            ],
            "source": [
                "m = mapvu.Map()\n",
                "m"
            ]
        },
        {
            "cell_type": "code",
            "execution_count": null,
            "metadata": {},
            "outputs": [],
            "source": [
                "url = \"https://opendata.digitalglobe.com/events/mauritius-oil-spill/post-event/2020-08-12/105001001F1B5B00/105001001F1B5B00.tif\"\n",
                "m.add_raster(url, name='Raster', fit_bounds=True)"
            ]
        },
        {
            "cell_type": "markdown",
            "metadata": {},
            "source": [
                "## Change layer opacity"
            ]
        },
        {
            "cell_type": "code",
            "execution_count": null,
            "metadata": {},
            "outputs": [],
            "source": [
                "m.layers"
            ]
        },
        {
            "cell_type": "code",
            "execution_count": null,
            "metadata": {},
            "outputs": [],
            "source": [
                "raster_layer = m.layers[-1]\n",
                "raster_layer.interact(opacity=(0, 1, 0.1))"
            ]
        },
        {
            "cell_type": "markdown",
            "metadata": {},
            "source": [
                "## Widget list\n",
                "\n",
                "Widget list: https://ipywidgets.readthedocs.io/en/latest/examples/Widget%20List.html\n",
                "\n",
                "Icons: https://fontawesome.com/v4.7.0/icons\n",
                "\n",
                "### Numeric widgets\n",
                "\n",
                "#### IntSlider"
            ]
        },
        {
            "cell_type": "code",
            "execution_count": 4,
            "metadata": {},
            "outputs": [],
            "source": [
                "import ipywidgets as widgets"
            ]
        },
        {
            "cell_type": "code",
            "execution_count": 5,
            "metadata": {},
            "outputs": [
                {
                    "data": {
                        "application/vnd.jupyter.widget-view+json": {
                            "model_id": "1f8f4ea362c54b399509ed65d414d17f",
                            "version_major": 2,
                            "version_minor": 0
                        },
                        "text/plain": [
                            "IntSlider(value=2000, description='Year:', max=2020, min=1984)"
                        ]
                    },
                    "execution_count": 5,
                    "metadata": {},
                    "output_type": "execute_result"
                }
            ],
            "source": [
                "int_slider = widgets.IntSlider(\n",
                "    value=2000,\n",
                "    min=1984,\n",
                "    max=2020,\n",
                "    step=1,\n",
                "    description='Year:'\n",
                ")\n",
                "int_slider"
            ]
        },
        {
            "cell_type": "code",
            "execution_count": 6,
            "metadata": {},
            "outputs": [
                {
                    "data": {
                        "text/plain": [
                            "2000"
                        ]
                    },
                    "execution_count": 6,
                    "metadata": {},
                    "output_type": "execute_result"
                }
            ],
            "source": [
                "int_slider.value"
            ]
        },
        {
            "cell_type": "markdown",
            "metadata": {},
            "source": [
                "#### FloatSlider"
            ]
        },
        {
            "cell_type": "code",
            "execution_count": 7,
            "metadata": {},
            "outputs": [
                {
                    "data": {
                        "application/vnd.jupyter.widget-view+json": {
                            "model_id": "1f41958887944f06bd9506212d41fd83",
                            "version_major": 2,
                            "version_minor": 0
                        },
                        "text/plain": [
                            "FloatSlider(value=0.0, description='Threshold:', max=1.0, min=-1.0, step=0.05)"
                        ]
                    },
                    "execution_count": 7,
                    "metadata": {},
                    "output_type": "execute_result"
                }
            ],
            "source": [
                "float_slider = widgets.FloatSlider(\n",
                "    value=0,\n",
                "    min=-1,\n",
                "    max=1,\n",
                "    step=0.05,\n",
                "    description='Threshold:'\n",
                ")\n",
                "float_slider"
            ]
        },
        {
            "cell_type": "code",
            "execution_count": 8,
            "metadata": {},
            "outputs": [
                {
                    "data": {
                        "text/plain": [
                            "0.0"
                        ]
                    },
                    "execution_count": 8,
                    "metadata": {},
                    "output_type": "execute_result"
                }
            ],
            "source": [
                "float_slider.value"
            ]
        },
        {
            "cell_type": "markdown",
            "metadata": {},
            "source": [
                "#### IntProgress"
            ]
        },
        {
            "cell_type": "code",
            "execution_count": 9,
            "metadata": {},
            "outputs": [
                {
                    "data": {
                        "application/vnd.jupyter.widget-view+json": {
                            "model_id": "3312d963ed6d4c5c887634bf7b9e8541",
                            "version_major": 2,
                            "version_minor": 0
                        },
                        "text/plain": [
                            "IntProgress(value=7, description='Loading:', max=10)"
                        ]
                    },
                    "execution_count": 9,
                    "metadata": {},
                    "output_type": "execute_result"
                }
            ],
            "source": [
                "int_progress = widgets.IntProgress(\n",
                "    value=7,\n",
                "    min=0,\n",
                "    max=10,\n",
                "    step=1,\n",
                "    description='Loading:',\n",
                "    bar_style='', # 'success', 'info', 'warning', 'danger' or ''\n",
                "    orientation='horizontal'\n",
                ")\n",
                "int_progress"
            ]
        },
        {
            "cell_type": "code",
            "execution_count": 10,
            "metadata": {},
            "outputs": [
                {
                    "data": {
                        "application/vnd.jupyter.widget-view+json": {
                            "model_id": "68c87478baf3410f8c8e6831a1918e60",
                            "version_major": 2,
                            "version_minor": 0
                        },
                        "text/plain": [
                            "IntText(value=7, description='Any:')"
                        ]
                    },
                    "execution_count": 10,
                    "metadata": {},
                    "output_type": "execute_result"
                }
            ],
            "source": [
                "int_text = widgets.IntText(\n",
                "    value=7,\n",
                "    description='Any:',\n",
                ")\n",
                "int_text"
            ]
        },
        {
            "cell_type": "code",
            "execution_count": 11,
            "metadata": {},
            "outputs": [
                {
                    "data": {
                        "application/vnd.jupyter.widget-view+json": {
                            "model_id": "0a6fab57b1d74842b7bef4d073bb8159",
                            "version_major": 2,
                            "version_minor": 0
                        },
                        "text/plain": [
                            "FloatText(value=7.5, description='Any:')"
                        ]
                    },
                    "execution_count": 11,
                    "metadata": {},
                    "output_type": "execute_result"
                }
            ],
            "source": [
                "float_text = widgets.FloatText(\n",
                "    value=7.5,\n",
                "    description='Any:',\n",
                ")\n",
                "float_text"
            ]
        },
        {
            "cell_type": "markdown",
            "metadata": {},
            "source": [
                "### Boolean widgets\n",
                "\n",
                "#### ToggleButton"
            ]
        },
        {
            "cell_type": "code",
            "execution_count": 12,
            "metadata": {},
            "outputs": [
                {
                    "data": {
                        "application/vnd.jupyter.widget-view+json": {
                            "model_id": "d2951821cf10405c94b52999ceb3f8a8",
                            "version_major": 2,
                            "version_minor": 0
                        },
                        "text/plain": [
                            "ToggleButton(value=False, button_style='success', description='Click me', icon='check', tooltip='Description')"
                        ]
                    },
                    "execution_count": 12,
                    "metadata": {},
                    "output_type": "execute_result"
                }
            ],
            "source": [
                "toggle_button = widgets.ToggleButton(\n",
                "    value=False,\n",
                "    description='Click me',\n",
                "    disabled=False,\n",
                "    button_style='success', # 'success', 'info', 'warning', 'danger' or ''\n",
                "    tooltip='Description',\n",
                "    icon='check' # (FontAwesome names without the `fa-` prefix)\n",
                ")\n",
                "toggle_button"
            ]
        },
        {
            "cell_type": "code",
            "execution_count": 13,
            "metadata": {},
            "outputs": [
                {
                    "data": {
                        "text/plain": [
                            "False"
                        ]
                    },
                    "execution_count": 13,
                    "metadata": {},
                    "output_type": "execute_result"
                }
            ],
            "source": [
                "toggle_button.value"
            ]
        },
        {
            "cell_type": "markdown",
            "metadata": {},
            "source": [
                "#### Checkbox"
            ]
        },
        {
            "cell_type": "code",
            "execution_count": null,
            "metadata": {},
            "outputs": [],
            "source": [
                "checkbox = widgets.Checkbox(\n",
                "    value=False,\n",
                "    description='Check me',\n",
                "    disabled=False,\n",
                "    indent=False\n",
                ")\n",
                "checkbox"
            ]
        },
        {
            "cell_type": "code",
            "execution_count": null,
            "metadata": {},
            "outputs": [],
            "source": [
                "checkbox.value"
            ]
        },
        {
            "cell_type": "markdown",
            "metadata": {},
            "source": [
                "### Selection widgets\n",
                "\n",
                "#### Dropdown"
            ]
        },
        {
            "cell_type": "code",
            "execution_count": null,
            "metadata": {},
            "outputs": [],
            "source": [
                "dropdown = widgets.Dropdown(\n",
                "    options=['USA', 'Canada', 'Mexico'],\n",
                "    value='Canada',\n",
                "    description='Country:'\n",
                ")\n",
                "dropdown"
            ]
        },
        {
            "cell_type": "code",
            "execution_count": null,
            "metadata": {},
            "outputs": [],
            "source": [
                "dropdown.value"
            ]
        },
        {
            "cell_type": "markdown",
            "metadata": {},
            "source": [
                "#### RadioButtons"
            ]
        },
        {
            "cell_type": "code",
            "execution_count": null,
            "metadata": {},
            "outputs": [],
            "source": [
                "radio_buttons = widgets.RadioButtons(\n",
                "    options=['USA', 'Canada', 'Mexico'],\n",
                "    value='Canada',\n",
                "    description='Country:'\n",
                ")\n",
                "radio_buttons"
            ]
        },
        {
            "cell_type": "code",
            "execution_count": null,
            "metadata": {},
            "outputs": [],
            "source": [
                "radio_buttons.value"
            ]
        },
        {
            "cell_type": "markdown",
            "metadata": {},
            "source": [
                "### String widgets\n",
                "\n",
                "#### Text"
            ]
        },
        {
            "cell_type": "code",
            "execution_count": null,
            "metadata": {},
            "outputs": [],
            "source": [
                "text = widgets.Text(\n",
                "    value='USA',\n",
                "    placeholder='Enter a country name',\n",
                "    description='Country:',\n",
                "    disabled=False\n",
                ")\n",
                "text"
            ]
        },
        {
            "cell_type": "code",
            "execution_count": null,
            "metadata": {},
            "outputs": [],
            "source": [
                "text.value"
            ]
        },
        {
            "cell_type": "markdown",
            "metadata": {},
            "source": [
                "#### Textarea"
            ]
        },
        {
            "cell_type": "code",
            "execution_count": null,
            "metadata": {},
            "outputs": [],
            "source": [
                "widgets.Textarea(\n",
                "    value='Hello World',\n",
                "    placeholder='Type something',\n",
                "    description='String:',\n",
                "    disabled=False\n",
                ")"
            ]
        },
        {
            "cell_type": "markdown",
            "metadata": {},
            "source": [
                "#### HTML"
            ]
        },
        {
            "cell_type": "code",
            "execution_count": 14,
            "metadata": {},
            "outputs": [
                {
                    "data": {
                        "application/vnd.jupyter.widget-view+json": {
                            "model_id": "d0e49a7096f9427d9e94454c96cddfd9",
                            "version_major": 2,
                            "version_minor": 0
                        },
                        "text/plain": [
                            "HTML(value='Hello <b>World</b>', description='Some HTML', placeholder='Some HTML')"
                        ]
                    },
                    "execution_count": 14,
                    "metadata": {},
                    "output_type": "execute_result"
                }
            ],
            "source": [
                "widgets.HTML(\n",
                "    value=\"Hello <b>World</b>\",\n",
                "    placeholder='Some HTML',\n",
                "    description='Some HTML',\n",
                ")"
            ]
        },
        {
            "cell_type": "code",
            "execution_count": 16,
            "metadata": {},
            "outputs": [
                {
                    "data": {
                        "application/vnd.jupyter.widget-view+json": {
                            "model_id": "12cca2d15d8147c4b4b9c5f000794a9e",
                            "version_major": 2,
                            "version_minor": 0
                        },
                        "text/plain": [
                            "HTML(value='<img src=\"https://earthengine.google.com/static/images/earth-engine-logo.png\" width=\"100\" height=\"…"
                        ]
                    },
                    "execution_count": 16,
                    "metadata": {},
                    "output_type": "execute_result"
                }
            ],
            "source": [
                "widgets.HTML(\n",
                "    value='<img src=\"https://earthengine.google.com/static/images/earth-engine-logo.png\" width=\"100\" height=\"100\">'\n",
                ")"
            ]
        },
        {
            "cell_type": "code",
            "execution_count": 17,
            "metadata": {},
            "outputs": [],
            "source": [
                "from ipyleaflet import WidgetControl\n",
                "import ipywidgets as widgets"
            ]
        },
        {
            "cell_type": "code",
            "execution_count": 18,
            "metadata": {},
            "outputs": [
                {
                    "data": {
                        "application/vnd.jupyter.widget-view+json": {
                            "model_id": "586faa943f714296a168cc41f81642c2",
                            "version_major": 2,
                            "version_minor": 0
                        },
                        "text/plain": [
                            "Map(center=[20, 0], controls=(ZoomControl(options=['position', 'zoom_in_text', 'zoom_in_title', 'zoom_out_text…"
                        ]
                    },
                    "execution_count": 18,
                    "metadata": {},
                    "output_type": "execute_result"
                }
            ],
            "source": [
                "m= mapvu.Map()\n",
                "m"
            ]
        },
        {
            "cell_type": "code",
            "execution_count": 20,
            "metadata": {},
            "outputs": [
                {
                    "data": {
                        "application/vnd.jupyter.widget-view+json": {
                            "model_id": "b049267290f94d8a883128419b089cfe",
                            "version_major": 2,
                            "version_minor": 0
                        },
                        "text/plain": [
                            "HTML(value='<img src=\"https://earthengine.google.com/static/images/earth-engine-logo.png\" width=\"300\" height=\"…"
                        ]
                    },
                    "execution_count": 20,
                    "metadata": {},
                    "output_type": "execute_result"
                }
            ],
            "source": [
                "widget=widgets.HTML(\n",
                "    value='<img src=\"https://earthengine.google.com/static/images/earth-engine-logo.png\" width=\"300\" height=\"300\">'\n",
                ")\n",
                "widget"
            ]
        },
        {
            "cell_type": "code",
            "execution_count": 22,
            "metadata": {},
            "outputs": [
                {
                    "data": {
                        "application/vnd.jupyter.widget-view+json": {
                            "model_id": "586faa943f714296a168cc41f81642c2",
                            "version_major": 2,
                            "version_minor": 0
                        },
                        "text/plain": [
                            "Map(bottom=397.0, center=[73.76128914199548, 43.85509742312294], controls=(ZoomControl(options=['position', 'z…"
                        ]
                    },
                    "execution_count": 22,
                    "metadata": {},
                    "output_type": "execute_result"
                }
            ],
            "source": [
                "control = WidgetControl(widget=widget, position = \"bottomright\")\n",
                "m.add(control)"
            ]
        },
        {
            "cell_type": "markdown",
            "metadata": {},
            "source": [
                "### Button"
            ]
        },
        {
            "cell_type": "code",
            "execution_count": null,
            "metadata": {},
            "outputs": [],
            "source": [
                "button = widgets.Button(\n",
                "    description='Click me',\n",
                "    button_style='info', # 'success', 'info', 'warning', 'danger' or ''\n",
                "    tooltip='Click me',\n",
                "    icon='check' # (FontAwesome names without the `fa-` prefix)\n",
                ")\n",
                "button"
            ]
        },
        {
            "cell_type": "markdown",
            "metadata": {},
            "source": [
                "### Date picker"
            ]
        },
        {
            "cell_type": "code",
            "execution_count": null,
            "metadata": {},
            "outputs": [],
            "source": [
                "date_picker = widgets.DatePicker(\n",
                "    description='Pick a Date',\n",
                "    disabled=False\n",
                ")\n",
                "date_picker"
            ]
        },
        {
            "cell_type": "code",
            "execution_count": null,
            "metadata": {},
            "outputs": [],
            "source": [
                "date_picker.value"
            ]
        },
        {
            "cell_type": "markdown",
            "metadata": {},
            "source": [
                "### Color picker"
            ]
        },
        {
            "cell_type": "code",
            "execution_count": null,
            "metadata": {},
            "outputs": [],
            "source": [
                "color_picker = widgets.ColorPicker(\n",
                "    concise=False,\n",
                "    description='Pick a color',\n",
                "    value='blue',\n",
                "    disabled=False\n",
                ")\n",
                "color_picker"
            ]
        },
        {
            "cell_type": "code",
            "execution_count": null,
            "metadata": {},
            "outputs": [],
            "source": [
                "color_picker.value"
            ]
        },
        {
            "cell_type": "markdown",
            "metadata": {},
            "source": [
                "### Output widget"
            ]
        },
        {
            "cell_type": "code",
            "execution_count": null,
            "metadata": {},
            "outputs": [],
            "source": [
                "out = widgets.Output(layout={'border': '1px solid black'})\n",
                "out"
            ]
        },
        {
            "cell_type": "code",
            "execution_count": null,
            "metadata": {},
            "outputs": [],
            "source": [
                "with out:\n",
                "    for i in range(10):\n",
                "        print(i, 'Hello world!')"
            ]
        },
        {
            "cell_type": "code",
            "execution_count": null,
            "metadata": {},
            "outputs": [],
            "source": [
                "from IPython.display import YouTubeVideo\n",
                "out.clear_output()\n",
                "with out:\n",
                "    display(YouTubeVideo('mA21Us_3m28'))\n",
                "out"
            ]
        },
        {
            "cell_type": "code",
            "execution_count": null,
            "metadata": {},
            "outputs": [],
            "source": [
                "out.clear_output()\n",
                "with out:\n",
                "    display(widgets.IntSlider())\n",
                "out"
            ]
        },
        {
            "cell_type": "markdown",
            "metadata": {},
            "source": [
                "## Add a widget to the map"
            ]
        },
        {
            "cell_type": "code",
            "execution_count": null,
            "metadata": {},
            "outputs": [],
            "source": [
                "import ipywidgets as widgets\n",
                "from ipyleaflet import WidgetControl"
            ]
        },
        {
            "cell_type": "code",
            "execution_count": null,
            "metadata": {},
            "outputs": [],
            "source": [
                "m = geosdemo.Map()\n",
                "m"
            ]
        },
        {
            "cell_type": "code",
            "execution_count": null,
            "metadata": {},
            "outputs": [],
            "source": [
                "output_widget = widgets.Output(layout={'border': '1px solid black'})\n",
                "output_control = WidgetControl(widget=output_widget, position='bottomright')\n",
                "m.add_control(output_control)"
            ]
        },
        {
            "cell_type": "code",
            "execution_count": null,
            "metadata": {},
            "outputs": [],
            "source": [
                "with output_widget:\n",
                "    print('Nice map!')"
            ]
        },
        {
            "cell_type": "code",
            "execution_count": null,
            "metadata": {},
            "outputs": [],
            "source": [
                "output_widget.clear_output()\n",
                "logo = widgets.HTML(\n",
                "    value='<img src=\"https://earthengine.google.com/static/images/earth-engine-logo.png\" width=\"100\" height=\"100\">'\n",
                ")\n",
                "with output_widget:\n",
                "    display(logo)"
            ]
        },
        {
            "cell_type": "code",
            "execution_count": null,
            "metadata": {},
            "outputs": [],
            "source": [
                "def handle_interaction(**kwargs):\n",
                "    latlon = kwargs.get('coordinates')\n",
                "    # latlon = [round(x, 2) for x in latlon]\n",
                "    if kwargs.get('type') == 'click':\n",
                "        with output_widget:\n",
                "            output_widget.clear_output()\n",
                "            print('You clicked at: {}'.format(latlon))\n",
                "\n",
                "m.on_interaction(handle_interaction)"
            ]
        }
    ],
    "metadata": {
        "hide_input": false,
        "kernelspec": {
            "display_name": "geos",
            "language": "python",
            "name": "python3"
        },
        "language_info": {
            "codemirror_mode": {
                "name": "ipython",
                "version": 3
            },
            "file_extension": ".py",
            "mimetype": "text/x-python",
            "name": "python",
            "nbconvert_exporter": "python",
            "pygments_lexer": "ipython3",
            "version": "3.9.23"
        },
        "toc": {
            "base_numbering": 1,
            "nav_menu": {},
            "number_sections": true,
            "sideBar": true,
            "skip_h1_title": true,
            "title_cell": "Table of Contents",
            "title_sidebar": "Table of Contents",
            "toc_cell": false,
            "toc_position": {
                "height": "calc(100% - 180px)",
                "left": "10px",
                "top": "150px",
                "width": "384px"
            },
            "toc_section_display": true,
            "toc_window_display": true
        },
        "varInspector": {
            "cols": {
                "lenName": 16,
                "lenType": 16,
                "lenVar": 40
            },
            "kernels_config": {
                "python": {
                    "delete_cmd_postfix": "",
                    "delete_cmd_prefix": "del ",
                    "library": "var_list.py",
                    "varRefreshCmd": "print(var_dic_list())"
                },
                "r": {
                    "delete_cmd_postfix": ") ",
                    "delete_cmd_prefix": "rm(",
                    "library": "var_list.r",
                    "varRefreshCmd": "cat(var_dic_list()) "
                }
            },
            "types_to_exclude": [
                "module",
                "function",
                "builtin_function_or_method",
                "instance",
                "_Feature"
            ],
            "window_display": false
        }
    },
    "nbformat": 4,
    "nbformat_minor": 4
}
