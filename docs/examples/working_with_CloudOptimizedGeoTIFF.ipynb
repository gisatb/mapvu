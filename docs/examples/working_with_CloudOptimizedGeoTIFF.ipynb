{
 "cells": [
  {
   "cell_type": "markdown",
   "id": "b86f8e8e",
   "metadata": {},
   "source": [
    "# !pip install folium httpx"
   ]
  },
  {
   "cell_type": "code",
   "execution_count": 2,
   "id": "75cbaa48",
   "metadata": {},
   "outputs": [
    {
     "name": "stderr",
     "output_type": "stream",
     "text": [
      "Matplotlib is building the font cache; this may take a moment.\n"
     ]
    }
   ],
   "source": [
    "import json\n",
    "\n",
    "import httpx\n",
    "\n",
    "from folium import Map, TileLayer\n",
    "\n",
    "%matplotlib inline"
   ]
  },
  {
   "cell_type": "code",
   "execution_count": 8,
   "id": "dfbdf9ea",
   "metadata": {},
   "outputs": [],
   "source": [
    "titiler_endpoint =\"https://titiler.xyz\"\n",
    "url = \"\""
   ]
  },
  {
   "cell_type": "code",
   "execution_count": 9,
   "id": "2253df5b",
   "metadata": {},
   "outputs": [
    {
     "ename": "KeyError",
     "evalue": "'bounds'",
     "output_type": "error",
     "traceback": [
      "\u001b[1;31m---------------------------------------------------------------------------\u001b[0m",
      "\u001b[1;31mKeyError\u001b[0m                                  Traceback (most recent call last)",
      "Cell \u001b[1;32mIn[9], line 8\u001b[0m\n\u001b[0;32m      1\u001b[0m r \u001b[38;5;241m=\u001b[39m httpx\u001b[38;5;241m.\u001b[39mget(\n\u001b[0;32m      2\u001b[0m     \u001b[38;5;124mf\u001b[39m\u001b[38;5;124m\"\u001b[39m\u001b[38;5;132;01m{\u001b[39;00mtitiler_endpoint\u001b[38;5;132;01m}\u001b[39;00m\u001b[38;5;124m/cog/info\u001b[39m\u001b[38;5;124m\"\u001b[39m,\n\u001b[0;32m      3\u001b[0m     params \u001b[38;5;241m=\u001b[39m {\n\u001b[0;32m      4\u001b[0m         \u001b[38;5;124m\"\u001b[39m\u001b[38;5;124murl\u001b[39m\u001b[38;5;124m\"\u001b[39m: url,\n\u001b[0;32m      5\u001b[0m     }\n\u001b[0;32m      6\u001b[0m )\u001b[38;5;241m.\u001b[39mjson()\n\u001b[1;32m----> 8\u001b[0m bound \u001b[38;5;241m=\u001b[39m\u001b[43mr\u001b[49m\u001b[43m[\u001b[49m\u001b[38;5;124;43m\"\u001b[39;49m\u001b[38;5;124;43mbounds\u001b[39;49m\u001b[38;5;124;43m\"\u001b[39;49m\u001b[43m]\u001b[49m\n\u001b[0;32m      9\u001b[0m \u001b[38;5;28mprint\u001b[39m(r)\n",
      "\u001b[1;31mKeyError\u001b[0m: 'bounds'"
     ]
    }
   ],
   "source": [
    "r = httpx.get(\n",
    "    f\"{titiler_endpoint}/cog/info\",\n",
    "    params = {\n",
    "        \"url\": url,\n",
    "    }\n",
    ").json()\n",
    "\n",
    "bound =r[\"bounds\"]\n",
    "print(r)"
   ]
  },
  {
   "cell_type": "code",
   "execution_count": null,
   "id": "9224ade6",
   "metadata": {},
   "outputs": [],
   "source": [
    "r =httpx.get(\n",
    "    f\"{titiler_endpoint}/coh/tilejson.json\",\n",
    "     params={\n",
    "         \"url\"=url,\n",
    "     }\n",
    ").json\n",
    "\n",
    "m=map(\n",
    "    location=((bounds[1] + bounds[3]) / 2,(bounds[0] + bounds[2]) / 2),\n",
    "    zoom_start = 13\n",
    ")"
   ]
  }
 ],
 "metadata": {
  "kernelspec": {
   "display_name": "geos",
   "language": "python",
   "name": "python3"
  },
  "language_info": {
   "codemirror_mode": {
    "name": "ipython",
    "version": 3
   },
   "file_extension": ".py",
   "mimetype": "text/x-python",
   "name": "python",
   "nbconvert_exporter": "python",
   "pygments_lexer": "ipython3",
   "version": "3.9.23"
  }
 },
 "nbformat": 4,
 "nbformat_minor": 5
}
