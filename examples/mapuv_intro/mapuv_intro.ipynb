{
 "cells": [
  {
   "cell_type": "code",
   "execution_count": 1,
   "id": "66cd3773",
   "metadata": {},
   "outputs": [],
   "source": [
    "import mapvu"
   ]
  },
  {
   "cell_type": "code",
   "execution_count": null,
   "id": "4da26b6b",
   "metadata": {},
   "outputs": [],
   "source": [
    "m = mapvu.Map()\n",
    "m"
   ]
  },
  {
   "cell_type": "code",
   "execution_count": 3,
   "id": "2902e715",
   "metadata": {},
   "outputs": [],
   "source": [
    "m.add_layer_control()"
   ]
  },
  {
   "cell_type": "code",
   "execution_count": 11,
   "id": "a18fb96c",
   "metadata": {},
   "outputs": [],
   "source": [
    "m.add_search_control()"
   ]
  },
  {
   "cell_type": "code",
   "execution_count": 8,
   "id": "2b091135",
   "metadata": {},
   "outputs": [],
   "source": [
    "m.add_draw_control()"
   ]
  },
  {
   "cell_type": "code",
   "execution_count": null,
   "id": "dcb2a0ef",
   "metadata": {},
   "outputs": [],
   "source": [
    "m.add_tile_layer(url=url, name=\"google Maps\", attribution=\"Google\")"
   ]
  },
  {
   "cell_type": "code",
   "execution_count": 9,
   "id": "3dbfe142",
   "metadata": {},
   "outputs": [],
   "source": [
    "m.add_basemap('roadmap')"
   ]
  },
  {
   "cell_type": "code",
   "execution_count": 3,
   "id": "b5b5722c",
   "metadata": {},
   "outputs": [],
   "source": [
    "m.add_basemap(\"satellite\")"
   ]
  },
  {
   "cell_type": "code",
   "execution_count": 4,
   "id": "9c595ed8",
   "metadata": {},
   "outputs": [],
   "source": [
    "m.add_basemap(\"hybrid\")"
   ]
  },
  {
   "cell_type": "code",
   "execution_count": 5,
   "id": "9b8880d9",
   "metadata": {},
   "outputs": [],
   "source": [
    "m.add_basemap(\"Esri.WorldImagery\")"
   ]
  },
  {
   "cell_type": "code",
   "execution_count": 2,
   "id": "9b4edbeb",
   "metadata": {},
   "outputs": [
    {
     "data": {
      "application/vnd.jupyter.widget-view+json": {
       "model_id": "d6f23d3fb65c45e1911b1505905fb1ac",
       "version_major": 2,
       "version_minor": 0
      },
      "text/plain": [
       "Map(center=[20, 0], controls=(ZoomControl(options=['position', 'zoom_in_text', 'zoom_in_title', 'zoom_out_text…"
      ]
     },
     "execution_count": 2,
     "metadata": {},
     "output_type": "execute_result"
    }
   ],
   "source": [
    "m = mapvu.Map()\n",
    "m"
   ]
  },
  {
   "cell_type": "code",
   "execution_count": 3,
   "id": "268a3711",
   "metadata": {},
   "outputs": [],
   "source": [
    "m.add_geojson(\"data/samples.geojson\",name=\"country\")"
   ]
  },
  {
   "cell_type": "code",
   "execution_count": null,
   "id": "796ee465",
   "metadata": {},
   "outputs": [],
   "source": []
  },
  {
   "cell_type": "code",
   "execution_count": 4,
   "id": "1a419797",
   "metadata": {},
   "outputs": [],
   "source": [
    "m.add_shp(\"data/countries.shp\", name=\"countries\")"
   ]
  }
 ],
 "metadata": {
  "kernelspec": {
   "display_name": "geos",
   "language": "python",
   "name": "python3"
  },
  "language_info": {
   "codemirror_mode": {
    "name": "ipython",
    "version": 3
   },
   "file_extension": ".py",
   "mimetype": "text/x-python",
   "name": "python",
   "nbconvert_exporter": "python",
   "pygments_lexer": "ipython3",
   "version": "3.9.23"
  }
 },
 "nbformat": 4,
 "nbformat_minor": 5
}
