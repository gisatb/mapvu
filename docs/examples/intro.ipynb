{
 "cells": [
  {
   "cell_type": "code",
   "execution_count": 1,
   "id": "06cd51ed",
   "metadata": {},
   "outputs": [],
   "source": [
    "import mapvu"
   ]
  },
  {
   "cell_type": "code",
   "execution_count": 5,
   "id": "86fe4d32",
   "metadata": {},
   "outputs": [
    {
     "data": {
      "text/plain": [
       "'xtlsyqvxhy'"
      ]
     },
     "execution_count": 5,
     "metadata": {},
     "output_type": "execute_result"
    }
   ],
   "source": [
    "mapvu.generate_random_string(10)"
   ]
  },
  {
   "cell_type": "code",
   "execution_count": 3,
   "id": "8cc4f0f5",
   "metadata": {},
   "outputs": [
    {
     "data": {
      "text/plain": [
       "50"
      ]
     },
     "execution_count": 3,
     "metadata": {},
     "output_type": "execute_result"
    }
   ],
   "source": [
    "mapvu.generate_lucky_number(2)"
   ]
  },
  {
   "cell_type": "code",
   "execution_count": null,
   "id": "cc74a4a3",
   "metadata": {},
   "outputs": [],
   "source": [
    "mapvu.generate_lucky_number()"
   ]
  }
 ],
 "metadata": {
  "kernelspec": {
   "display_name": "geos",
   "language": "python",
   "name": "python3"
  },
  "language_info": {
   "codemirror_mode": {
    "name": "ipython",
    "version": 3
   },
   "file_extension": ".py",
   "mimetype": "text/x-python",
   "name": "python",
   "nbconvert_exporter": "python",
   "pygments_lexer": "ipython3",
   "version": "3.9.23"
  }
 },
 "nbformat": 4,
 "nbformat_minor": 5
}
