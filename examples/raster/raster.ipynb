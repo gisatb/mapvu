{
 "cells": [
  {
   "cell_type": "code",
   "execution_count": 1,
   "id": "4f5b418b",
   "metadata": {},
   "outputs": [],
   "source": [
    "import mapvu"
   ]
  },
  {
   "cell_type": "code",
   "execution_count": 2,
   "id": "3f362c5f",
   "metadata": {},
   "outputs": [
    {
     "data": {
      "application/vnd.jupyter.widget-view+json": {
       "model_id": "071601a14bd1439cb7ede55f304cfce8",
       "version_major": 2,
       "version_minor": 0
      },
      "text/plain": [
       "Map(center=[20, 0], controls=(ZoomControl(options=['position', 'zoom_in_text', 'zoom_in_title', 'zoom_out_text…"
      ]
     },
     "execution_count": 2,
     "metadata": {},
     "output_type": "execute_result"
    }
   ],
   "source": [
    "m=mapvu.Map()\n",
    "m"
   ]
  },
  {
   "cell_type": "code",
   "execution_count": 3,
   "id": "1031f0b1",
   "metadata": {},
   "outputs": [],
   "source": [
    "url = \"https://raw.githubusercontent.com/cogeotiff/rio-tiler/main/tests/fixtures/cog.tif\""
   ]
  },
  {
   "cell_type": "code",
   "execution_count": 4,
   "id": "fdd4b6b7",
   "metadata": {},
   "outputs": [
    {
     "ename": "ValueError",
     "evalue": "TiTiler /cog/tilejson.json error: {'detail': 'Not Found'}",
     "output_type": "error",
     "traceback": [
      "\u001b[1;31m---------------------------------------------------------------------------\u001b[0m",
      "\u001b[1;31mValueError\u001b[0m                                Traceback (most recent call last)",
      "Cell \u001b[1;32mIn[4], line 1\u001b[0m\n\u001b[1;32m----> 1\u001b[0m \u001b[43mm\u001b[49m\u001b[38;5;241;43m.\u001b[39;49m\u001b[43madd_raster\u001b[49m\u001b[43m(\u001b[49m\u001b[43murl\u001b[49m\u001b[43m)\u001b[49m\n",
      "File \u001b[1;32mc:\\users\\dell\\downloads\\new folder\\mapvu\\mapvu\\mapvu.py:218\u001b[0m, in \u001b[0;36mMap.add_raster\u001b[1;34m(self, url, name, fit_bounds, **kwargs)\u001b[0m\n\u001b[0;32m    210\u001b[0m r_tile \u001b[38;5;241m=\u001b[39m httpx\u001b[38;5;241m.\u001b[39mget(\n\u001b[0;32m    211\u001b[0m     \u001b[38;5;124mf\u001b[39m\u001b[38;5;124m\"\u001b[39m\u001b[38;5;132;01m{\u001b[39;00mtitiler_endpoint\u001b[38;5;132;01m}\u001b[39;00m\u001b[38;5;124m/cog/tilejson.json\u001b[39m\u001b[38;5;124m\"\u001b[39m,\n\u001b[0;32m    212\u001b[0m     params\u001b[38;5;241m=\u001b[39m {\n\u001b[0;32m    213\u001b[0m         \u001b[38;5;124m\"\u001b[39m\u001b[38;5;124murl\u001b[39m\u001b[38;5;124m\"\u001b[39m:url\n\u001b[0;32m    214\u001b[0m     },\n\u001b[0;32m    215\u001b[0m )\u001b[38;5;241m.\u001b[39mjson()\n\u001b[0;32m    217\u001b[0m \u001b[38;5;28;01mif\u001b[39;00m \u001b[38;5;124m\"\u001b[39m\u001b[38;5;124mtiles\u001b[39m\u001b[38;5;124m\"\u001b[39m \u001b[38;5;129;01mnot\u001b[39;00m \u001b[38;5;129;01min\u001b[39;00m r_tile:\n\u001b[1;32m--> 218\u001b[0m         \u001b[38;5;28;01mraise\u001b[39;00m \u001b[38;5;167;01mValueError\u001b[39;00m(\u001b[38;5;124mf\u001b[39m\u001b[38;5;124m\"\u001b[39m\u001b[38;5;124mTiTiler /cog/tilejson.json error: \u001b[39m\u001b[38;5;132;01m{\u001b[39;00mr_tile\u001b[38;5;132;01m}\u001b[39;00m\u001b[38;5;124m\"\u001b[39m)\n\u001b[0;32m    220\u001b[0m tile \u001b[38;5;241m=\u001b[39m r_tile[\u001b[38;5;124m\"\u001b[39m\u001b[38;5;124mtiles\u001b[39m\u001b[38;5;124m\"\u001b[39m][\u001b[38;5;241m0\u001b[39m]\n\u001b[0;32m    222\u001b[0m \u001b[38;5;28mself\u001b[39m\u001b[38;5;241m.\u001b[39madd_tile_layer(url\u001b[38;5;241m=\u001b[39mtile, name\u001b[38;5;241m=\u001b[39mname, \u001b[38;5;241m*\u001b[39m\u001b[38;5;241m*\u001b[39mkwargs)\n",
      "\u001b[1;31mValueError\u001b[0m: TiTiler /cog/tilejson.json error: {'detail': 'Not Found'}"
     ]
    }
   ],
   "source": [
    "m.add_raster(url)"
   ]
  },
  {
   "cell_type": "code",
   "execution_count": 5,
   "id": "a7dbfac3",
   "metadata": {},
   "outputs": [
    {
     "ename": "ValueError",
     "evalue": "TiTiler /cog/tilejson.json error: {'detail': 'Not Found'}",
     "output_type": "error",
     "traceback": [
      "\u001b[1;31m---------------------------------------------------------------------------\u001b[0m",
      "\u001b[1;31mValueError\u001b[0m                                Traceback (most recent call last)",
      "Cell \u001b[1;32mIn[5], line 2\u001b[0m\n\u001b[0;32m      1\u001b[0m url \u001b[38;5;241m=\u001b[39m \u001b[38;5;124m\"\u001b[39m\u001b[38;5;124mhttps://raw.githubusercontent.com/cogeotiff/rio-tiler/main/tests/fixtures/cog.tif\u001b[39m\u001b[38;5;124m\"\u001b[39m\n\u001b[1;32m----> 2\u001b[0m \u001b[43mm\u001b[49m\u001b[38;5;241;43m.\u001b[39;49m\u001b[43madd_raster\u001b[49m\u001b[43m(\u001b[49m\u001b[43murl\u001b[49m\u001b[43m)\u001b[49m\n",
      "File \u001b[1;32mc:\\users\\dell\\downloads\\new folder\\mapvu\\mapvu\\mapvu.py:218\u001b[0m, in \u001b[0;36mMap.add_raster\u001b[1;34m(self, url, name, fit_bounds, **kwargs)\u001b[0m\n\u001b[0;32m    210\u001b[0m r_tile \u001b[38;5;241m=\u001b[39m httpx\u001b[38;5;241m.\u001b[39mget(\n\u001b[0;32m    211\u001b[0m     \u001b[38;5;124mf\u001b[39m\u001b[38;5;124m\"\u001b[39m\u001b[38;5;132;01m{\u001b[39;00mtitiler_endpoint\u001b[38;5;132;01m}\u001b[39;00m\u001b[38;5;124m/cog/tilejson.json\u001b[39m\u001b[38;5;124m\"\u001b[39m,\n\u001b[0;32m    212\u001b[0m     params\u001b[38;5;241m=\u001b[39m {\n\u001b[0;32m    213\u001b[0m         \u001b[38;5;124m\"\u001b[39m\u001b[38;5;124murl\u001b[39m\u001b[38;5;124m\"\u001b[39m:url\n\u001b[0;32m    214\u001b[0m     },\n\u001b[0;32m    215\u001b[0m )\u001b[38;5;241m.\u001b[39mjson()\n\u001b[0;32m    217\u001b[0m \u001b[38;5;28;01mif\u001b[39;00m \u001b[38;5;124m\"\u001b[39m\u001b[38;5;124mtiles\u001b[39m\u001b[38;5;124m\"\u001b[39m \u001b[38;5;129;01mnot\u001b[39;00m \u001b[38;5;129;01min\u001b[39;00m r_tile:\n\u001b[1;32m--> 218\u001b[0m         \u001b[38;5;28;01mraise\u001b[39;00m \u001b[38;5;167;01mValueError\u001b[39;00m(\u001b[38;5;124mf\u001b[39m\u001b[38;5;124m\"\u001b[39m\u001b[38;5;124mTiTiler /cog/tilejson.json error: \u001b[39m\u001b[38;5;132;01m{\u001b[39;00mr_tile\u001b[38;5;132;01m}\u001b[39;00m\u001b[38;5;124m\"\u001b[39m)\n\u001b[0;32m    220\u001b[0m tile \u001b[38;5;241m=\u001b[39m r_tile[\u001b[38;5;124m\"\u001b[39m\u001b[38;5;124mtiles\u001b[39m\u001b[38;5;124m\"\u001b[39m][\u001b[38;5;241m0\u001b[39m]\n\u001b[0;32m    222\u001b[0m \u001b[38;5;28mself\u001b[39m\u001b[38;5;241m.\u001b[39madd_tile_layer(url\u001b[38;5;241m=\u001b[39mtile, name\u001b[38;5;241m=\u001b[39mname, \u001b[38;5;241m*\u001b[39m\u001b[38;5;241m*\u001b[39mkwargs)\n",
      "\u001b[1;31mValueError\u001b[0m: TiTiler /cog/tilejson.json error: {'detail': 'Not Found'}"
     ]
    }
   ],
   "source": [
    "url = \"https://raw.githubusercontent.com/cogeotiff/rio-tiler/main/tests/fixtures/cog.tif\"\n",
    "m.add_raster(url)\n"
   ]
  }
 ],
 "metadata": {
  "kernelspec": {
   "display_name": "geos",
   "language": "python",
   "name": "python3"
  },
  "language_info": {
   "codemirror_mode": {
    "name": "ipython",
    "version": 3
   },
   "file_extension": ".py",
   "mimetype": "text/x-python",
   "name": "python",
   "nbconvert_exporter": "python",
   "pygments_lexer": "ipython3",
   "version": "3.9.23"
  }
 },
 "nbformat": 4,
 "nbformat_minor": 5
}
