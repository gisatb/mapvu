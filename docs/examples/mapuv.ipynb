{
 "cells": [
  {
   "cell_type": "code",
   "execution_count": 1,
   "id": "66cd3773",
   "metadata": {},
   "outputs": [],
   "source": [
    "import mapvu"
   ]
  },
  {
   "cell_type": "code",
   "execution_count": 3,
   "id": "a3799ed2",
   "metadata": {},
   "outputs": [],
   "source": [
    "m.add_search_control(position ='topleft' \\\n",
    "'',zoom = 4,)"
   ]
  },
  {
   "cell_type": "code",
   "execution_count": 5,
   "id": "4da26b6b",
   "metadata": {},
   "outputs": [
    {
     "name": "stdout",
     "output_type": "stream",
     "text": [
      "{'scroll_wheel_zoom': True}\n"
     ]
    },
    {
     "data": {
      "application/vnd.jupyter.widget-view+json": {
       "model_id": "d29bbdcae09e4ed7b9f64ded4d95ebb1",
       "version_major": 2,
       "version_minor": 0
      },
      "text/plain": [
       "Map(center=[40, -100], controls=(ZoomControl(options=['position', 'zoom_in_text', 'zoom_in_title', 'zoom_out_t…"
      ]
     },
     "execution_count": 5,
     "metadata": {},
     "output_type": "execute_result"
    }
   ],
   "source": [
    "m = mapvu.Map(center=[40,-100],zoom=4)\n",
    "m"
   ]
  },
  {
   "cell_type": "code",
   "execution_count": 11,
   "id": "a18fb96c",
   "metadata": {},
   "outputs": [],
   "source": [
    "m.add_search_control()"
   ]
  },
  {
   "cell_type": "code",
   "execution_count": 8,
   "id": "2b091135",
   "metadata": {},
   "outputs": [],
   "source": [
    "m.add_draw_control()"
   ]
  },
  {
   "cell_type": "code",
   "execution_count": null,
   "id": "dcb2a0ef",
   "metadata": {},
   "outputs": [],
   "source": []
  }
 ],
 "metadata": {
  "kernelspec": {
   "display_name": "geos",
   "language": "python",
   "name": "python3"
  },
  "language_info": {
   "codemirror_mode": {
    "name": "ipython",
    "version": 3
   },
   "file_extension": ".py",
   "mimetype": "text/x-python",
   "name": "python",
   "nbconvert_exporter": "python",
   "pygments_lexer": "ipython3",
   "version": "3.9.23"
  }
 },
 "nbformat": 4,
 "nbformat_minor": 5
}
