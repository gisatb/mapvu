{
 "cells": [
  {
   "cell_type": "markdown",
   "id": "b86f8e8e",
   "metadata": {},
   "source": [
    "# !pip install folium httpx"
   ]
  },
  {
   "cell_type": "code",
   "execution_count": 2,
   "id": "75cbaa48",
   "metadata": {},
   "outputs": [
    {
     "name": "stderr",
     "output_type": "stream",
     "text": [
      "Matplotlib is building the font cache; this may take a moment.\n"
     ]
    }
   ],
   "source": [
    "import json\n",
    "\n",
    "import httpx\n",
    "\n",
    "from folium import Map, TileLayer\n",
    "\n",
    "%matplotlib inline"
   ]
  },
  {
   "cell_type": "code",
   "execution_count": 8,
   "id": "dfbdf9ea",
   "metadata": {},
   "outputs": [],
   "source": [
    "titiler_endpoint =\"https://titiler.xyz\"\n",
    "url = \"\""
   ]
  },
  {
   "cell_type": "code",
   "execution_count": null,
   "id": "2253df5b",
   "metadata": {},
   "outputs": [],
   "source": [
    "r = httpx.get(\n",
    "    f\"{titiler_endpoint}/cog/info\",\n",
    "    params = {\n",
    "        \"url\": url,\n",
    "    }\n",
    ").json()\n",
    "\n",
    "bound =r[\"bounds\"]\n",
    "print(r)"
   ]
  },
  {
   "cell_type": "code",
   "execution_count": null,
   "id": "9224ade6",
   "metadata": {},
   "outputs": [],
   "source": [
    "r =httpx.get(\n",
    "    f\"{titiler_endpoint}/coh/tilejson.json\",\n",
    "     params={\n",
    "         \"url\"=url,\n",
    "     }\n",
    ").json\n",
    "\n",
    "m=map(\n",
    "    location=((bounds[1] + bounds[3]) / 2,(bounds[0] + bounds[2]) / 2),\n",
    "    zoom_start = 13\n",
    ")"
   ]
  }
 ],
 "metadata": {
  "kernelspec": {
   "display_name": "geos",
   "language": "python",
   "name": "python3"
  },
  "language_info": {
   "codemirror_mode": {
    "name": "ipython",
    "version": 3
   },
   "file_extension": ".py",
   "mimetype": "text/x-python",
   "name": "python",
   "nbconvert_exporter": "python",
   "pygments_lexer": "ipython3",
   "version": "3.9.23"
  }
 },
 "nbformat": 4,
 "nbformat_minor": 5
}
